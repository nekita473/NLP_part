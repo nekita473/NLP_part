{
 "cells": [
  {
   "cell_type": "code",
   "execution_count": 1,
   "metadata": {},
   "outputs": [],
   "source": [
    "import pandas as pd"
   ]
  },
  {
   "cell_type": "code",
   "execution_count": 2,
   "metadata": {},
   "outputs": [],
   "source": [
    "answers = pd.read_csv('Local_Answers_v_0_9_1.csv')"
   ]
  },
  {
   "cell_type": "code",
   "execution_count": 3,
   "metadata": {},
   "outputs": [],
   "source": [
    "numerical_indexes = [1,5,6,8,9,10,11,18]"
   ]
  },
  {
   "cell_type": "code",
   "execution_count": 4,
   "metadata": {},
   "outputs": [],
   "source": [
    "intents = ['diag', 'cam', 'os', 'ram', 'rom', 'weight', 'acc', 'sim']"
   ]
  },
  {
   "cell_type": "code",
   "execution_count": 5,
   "metadata": {},
   "outputs": [],
   "source": [
    "numerical_answers = answers.iloc[:, numerical_indexes]"
   ]
  },
  {
   "cell_type": "code",
   "execution_count": 6,
   "metadata": {},
   "outputs": [],
   "source": [
    "numerical_answers.columns = intents"
   ]
  },
  {
   "cell_type": "code",
   "execution_count": 7,
   "metadata": {},
   "outputs": [],
   "source": [
    "result = pd.DataFrame(columns=['Интент', 'Текст', 'Число', 'Размерность', 'Определённость', 'Нет ответа'])"
   ]
  },
  {
   "cell_type": "code",
   "execution_count": 17,
   "metadata": {},
   "outputs": [],
   "source": [
    "def get_number_from_statement(statement):\n",
    "    res = '-'\n",
    "    for word in statement.split():\n",
    "        try:\n",
    "            res = float(word.replace(',', '.'))\n",
    "        except:\n",
    "            ValueError\n",
    "    return res"
   ]
  },
  {
   "cell_type": "code",
   "execution_count": 18,
   "metadata": {},
   "outputs": [],
   "source": [
    "def get_dimension_from_statement(statement):\n",
    "    res = '-'\n",
    "    number = False\n",
    "    for word in statement.split():\n",
    "        if(number):\n",
    "            res = word\n",
    "            break\n",
    "        try:\n",
    "            float(word)\n",
    "            number = True\n",
    "        except:\n",
    "            ValueError\n",
    "    return res"
   ]
  },
  {
   "cell_type": "code",
   "execution_count": 19,
   "metadata": {},
   "outputs": [],
   "source": [
    "numbers = []\n",
    "dimensions = []\n",
    "texts = []\n",
    "is_answer = []\n",
    "intents_for_result = []"
   ]
  },
  {
   "cell_type": "code",
   "execution_count": 20,
   "metadata": {},
   "outputs": [],
   "source": [
    "for intent in intents:\n",
    "    for statement in numerical_answers.loc[:, intent].values:\n",
    "        numbers.append(get_number_from_statement(statement))\n",
    "        dimensions.append(get_dimension_from_statement(statement))\n",
    "        texts.append(statement)\n",
    "        if(get_number_from_statement(statement) == '-'):\n",
    "            is_answer.append(0)\n",
    "        else:\n",
    "            is_answer.append(1)\n",
    "        intents_for_result.append(intent)"
   ]
  },
  {
   "cell_type": "code",
   "execution_count": 21,
   "metadata": {},
   "outputs": [],
   "source": [
    "result['Интент'] = intents_for_result\n",
    "result['Текст'] = texts\n",
    "result['Число'] = numbers\n",
    "result['Размерность'] = dimensions\n",
    "result['Нет ответа'] = is_answer"
   ]
  },
  {
   "cell_type": "code",
   "execution_count": 22,
   "metadata": {},
   "outputs": [],
   "source": [
    "result.to_csv('result.csv', encoding='windows-1251')"
   ]
  },
  {
   "cell_type": "code",
   "execution_count": null,
   "metadata": {},
   "outputs": [],
   "source": []
  }
 ],
 "metadata": {
  "kernelspec": {
   "display_name": "Python 3",
   "language": "python",
   "name": "python3"
  },
  "language_info": {
   "codemirror_mode": {
    "name": "ipython",
    "version": 3
   },
   "file_extension": ".py",
   "mimetype": "text/x-python",
   "name": "python",
   "nbconvert_exporter": "python",
   "pygments_lexer": "ipython3",
   "version": "3.8.3"
  }
 },
 "nbformat": 4,
 "nbformat_minor": 4
}
